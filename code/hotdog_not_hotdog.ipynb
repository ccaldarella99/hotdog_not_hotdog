{
 "cells": [
  {
   "cell_type": "markdown",
   "id": "geographic-carroll",
   "metadata": {
    "id": "therapeutic-registrar"
   },
   "source": [
    "# Hotdog - Not Hotdog"
   ]
  },
  {
   "cell_type": "code",
   "execution_count": null,
   "id": "solved-publicity",
   "metadata": {
    "id": "mJvp3QVUFAKA"
   },
   "outputs": [],
   "source": [
    "# # MOUNT GOOGLE DRIVE \n",
    "# from google.colab import drive\n",
    "# drive.mount('/content/drive')\n",
    "\n",
    "# GOOGLE DRIVE PATHS\n",
    "# img_path = '/content/drive/MyDrive/Colab Notebooks/08-week_brunch_hotdog_not-hotdog/hotdog-nothotdog/'\n"
   ]
  },
  {
   "cell_type": "code",
   "execution_count": null,
   "id": "floppy-hollow",
   "metadata": {
    "id": "veterinary-financing"
   },
   "outputs": [],
   "source": [
    "# LOCAL PATHS\n",
    "img_path = '../../../SCRATCH/hotdog_not-hotdog/hotdog-nothotdog/'\n"
   ]
  },
  {
   "cell_type": "code",
   "execution_count": null,
   "id": "important-strength",
   "metadata": {
    "id": "lp-p6fOPFRU-"
   },
   "outputs": [],
   "source": [
    "train_path = img_path + 'train/'\n",
    "test_path = img_path + 'test/'"
   ]
  },
  {
   "cell_type": "code",
   "execution_count": null,
   "id": "printable-mentor",
   "metadata": {
    "id": "administrative-prescription"
   },
   "outputs": [],
   "source": [
    "import os\n",
    "\n",
    "import numpy as np\n",
    "import pandas as pd\n",
    "\n",
    "import keras\n",
    "from keras.layers import Dense, Flatten\n",
    "from keras.models import Sequential\n",
    "from keras.wrappers.scikit_learn import KerasClassifier\n",
    "from keras.datasets import mnist\n",
    "from keras.utils import to_categorical\n",
    "\n",
    "from keras.preprocessing.image import ImageDataGenerator\n",
    "from keras.layers import Conv2D, MaxPool2D, Dropout\n",
    "from keras.applications import MobileNetV2, VGG16, InceptionV3, Xception, ResNet50\n",
    "# from keras.applications.vgg16 import VGG16\n",
    "from keras.callbacks import EarlyStopping\n",
    "\n",
    "from tensorflow.keras.regularizers import l2\n",
    "from tensorflow.keras.regularizers import l1\n",
    "\n",
    "from keras.layers import GlobalAveragePooling2D\n",
    "from keras.utils import plot_model"
   ]
  },
  {
   "cell_type": "code",
   "execution_count": null,
   "id": "liquid-vegetation",
   "metadata": {},
   "outputs": [],
   "source": [
    "datagen = ImageDataGenerator(rescale=1. / 255)"
   ]
  },
  {
   "cell_type": "code",
   "execution_count": null,
   "id": "leading-qualification",
   "metadata": {
    "id": "x9JEiCOvG7SE"
   },
   "outputs": [],
   "source": [
    "train_gen_aug = ImageDataGenerator(\n",
    "    rescale = 1/255.,\n",
    "    shear_range=0.1,\n",
    "    zoom_range = 0.2,\n",
    "    horizontal_flip = True,\n",
    "    vertical_flip=True\n",
    ")"
   ]
  },
  {
   "cell_type": "code",
   "execution_count": null,
   "id": "phantom-group",
   "metadata": {
    "id": "W6swBEqdW_Ad"
   },
   "outputs": [],
   "source": [
    "test_gen_aug = ImageDataGenerator(\n",
    "    rescale = 1/255.,\n",
    "    shear_range=0.1,\n",
    "    zoom_range = 0.2,\n",
    "    horizontal_flip = True,\n",
    "    vertical_flip=True\n",
    ")"
   ]
  },
  {
   "cell_type": "code",
   "execution_count": null,
   "id": "bored-carolina",
   "metadata": {
    "colab": {
     "base_uri": "https://localhost:8080/"
    },
    "id": "Gw1UYE2vItTu",
    "outputId": "4f1d51b9-f651-410b-8a1c-e649fe61f6b4"
   },
   "outputs": [],
   "source": [
    "train_aug = train_gen_aug.flow_from_directory(train_path,\n",
    "        target_size=(299, 299),\n",
    "        class_mode=None,  \n",
    "        shuffle=False\n",
    ")\n"
   ]
  },
  {
   "cell_type": "code",
   "execution_count": null,
   "id": "elder-triangle",
   "metadata": {
    "id": "CT1h3iYuW4I2"
   },
   "outputs": [],
   "source": [
    "test_aug = test_gen_aug.flow_from_directory(test_path,\n",
    "        target_size=(299, 299),\n",
    "        class_mode=None,\n",
    "        shuffle=False\n",
    ")\n"
   ]
  },
  {
   "cell_type": "code",
   "execution_count": null,
   "id": "south-paste",
   "metadata": {},
   "outputs": [],
   "source": [
    "print(train_aug.class_indices)\n",
    "print(test_aug.class_indices)\n"
   ]
  },
  {
   "cell_type": "code",
   "execution_count": null,
   "id": "copyrighted-civilization",
   "metadata": {},
   "outputs": [],
   "source": [
    "### SET MODEL TO RUN HERE!! ###\n",
    "\n",
    "run_model = 4\n",
    "\n",
    "### SET MODEL TO RUN HERE!! ###"
   ]
  },
  {
   "cell_type": "code",
   "execution_count": null,
   "id": "miniature-brand",
   "metadata": {
    "id": "GlvYiycvI1GS"
   },
   "outputs": [],
   "source": [
    "if(run_model == 0):\n",
    "    pass\n",
    "elif(run_model == 1):\n",
    "    conv_base = Xception(include_top=False, input_shape=(299, 299, 3))\n",
    "elif(run_model == 2):\n",
    "    conv_base = MobileNetV2(include_top=False, input_shape=(299, 299, 3))\n",
    "elif(run_model == 3):\n",
    "    conv_base = InceptionV3(include_top=False, input_shape=(299, 299, 3))\n",
    "elif(run_model == 4):\n",
    "    conv_base = ResNet50(include_top=False, input_shape=(299, 299, 3))\n",
    "elif(run_model == 5):\n",
    "    conv_base = VGG16(include_top=False, input_shape=(299, 299, 3))\n",
    "\n",
    "print(f'Running Model: {run_model}')"
   ]
  },
  {
   "cell_type": "code",
   "execution_count": null,
   "id": "embedded-thesis",
   "metadata": {
    "id": "GlvYiycvI1GS"
   },
   "outputs": [],
   "source": [
    "if(run_model == 0):\n",
    "    X_train = train_aug\n",
    "    X_test = test_aug\n",
    "else:\n",
    "    X_train = conv_base.predict(train_aug)\n",
    "    X_test = conv_base.predict(test_aug)\n"
   ]
  },
  {
   "cell_type": "code",
   "execution_count": null,
   "id": "danish-applicant",
   "metadata": {
    "id": "1_L30QU0YV8C"
   },
   "outputs": [],
   "source": [
    "y_train = train_aug.labels \n",
    "y_train_binarized = to_categorical(y_train)\n",
    "\n",
    "y_test = test_aug.labels\n",
    "y_test_binarized = to_categorical(y_test)"
   ]
  },
  {
   "cell_type": "code",
   "execution_count": null,
   "id": "forward-lawrence",
   "metadata": {
    "id": "xFk2sgK8I0y6"
   },
   "outputs": [],
   "source": [
    "model = Sequential()\n",
    "\n",
    "# if(run_model == 0):# and False):\n",
    "#     model.add(Conv2D(filters=50, kernel_size=(3,3), activation = 'relu', input_shape=(299, 299, 3)))\n",
    "#     model.add(MaxPool2D(pool_size=(2,2)))\n",
    "#     model.add(Conv2D(filters=150, kernel_size=(3,3), activation = 'relu', input_shape=(299, 299, 3)))\n",
    "#     model.add(MaxPool2D(pool_size=(2,2)))\n",
    "#     #model.add(Flatten())\n",
    "\n",
    "model.add(GlobalAveragePooling2D())\n",
    "\n",
    "# model.add(Dense(50, activation = 'relu'))\n",
    "# model.add(Dense(350, activation = 'relu'))\n",
    "# model.add(Dense(150, activation = 'relu'))\n",
    "# model.add(Dense(50, activation = 'relu'))\n",
    "\n",
    "\n",
    "# model.add(Dense(50, activation = 'relu', kernel_regularizer = l2(0.1)))\n",
    "# model.add(Dropout(0.2))\n",
    "# model.add(Dense(350, activation = 'relu', kernel_regularizer = l2(0.1)))\n",
    "# model.add(Dropout(0.2))\n",
    "# model.add(Dense(150, activation = 'relu', kernel_regularizer = l2(0.1)))\n",
    "# model.add(Dropout(0.2))\n",
    "# model.add(Dense(50, activation = 'relu', kernel_regularizer = l2(0.1)))\n",
    "# model.add(Dropout(0.2))\n",
    "\n",
    "\n",
    "# model.add(Dense(2, activation='sigmoid'))\n",
    "model.add(Dense(2, activation='softmax'))\n",
    "model.compile(\n",
    "    # loss='bce', \n",
    "    loss='categorical_crossentropy', \n",
    "    optimizer='adam', \n",
    "    metrics=['accuracy', 'Precision', 'Recall']\n",
    ")\n"
   ]
  },
  {
   "cell_type": "code",
   "execution_count": null,
   "id": "stunning-lingerie",
   "metadata": {
    "colab": {
     "base_uri": "https://localhost:8080/"
    },
    "id": "H9ZXJaqUJrX5",
    "outputId": "dd4add7d-5da0-4892-e4ef-44ca1995302a"
   },
   "outputs": [],
   "source": [
    "callback = EarlyStopping(patience=5)\n",
    "\n",
    "if(run_model == 0):\n",
    "    history = model.fit(\n",
    "        X_train, \n",
    "        epochs = 20,\n",
    "        validation_data=(X_test),\n",
    "        callbacks=[callback],\n",
    "        verbose=1\n",
    "    )\n",
    "else:\n",
    "    history = model.fit(\n",
    "        X_train, \n",
    "        y_train_binarized, \n",
    "        epochs = 20,\n",
    "        validation_data=(X_test, y_test_binarized),\n",
    "        callbacks=[callback],\n",
    "        verbose=1\n",
    "    )\n",
    "\n",
    "print(f'Model Ran: {run_model}')"
   ]
  },
  {
   "cell_type": "code",
   "execution_count": null,
   "id": "rubber-formation",
   "metadata": {
    "id": "kpTcM10-JrNA"
   },
   "outputs": [],
   "source": [
    "print(f'Model Ran: {run_model}')"
   ]
  },
  {
   "cell_type": "code",
   "execution_count": null,
   "id": "limited-pledge",
   "metadata": {},
   "outputs": [],
   "source": []
  },
  {
   "cell_type": "code",
   "execution_count": null,
   "id": "unnecessary-destruction",
   "metadata": {
    "id": "Q9vsjhRzJrBZ"
   },
   "outputs": [],
   "source": [
    "# save_path = f'./models/hotdog_model_{run_model}.h5'\n",
    "# model.save(save_path)\n",
    "# print(f'File saved to: {save_path}')"
   ]
  },
  {
   "cell_type": "code",
   "execution_count": null,
   "id": "revolutionary-championship",
   "metadata": {
    "id": "1sx0cwIvJq1J"
   },
   "outputs": [],
   "source": []
  },
  {
   "cell_type": "code",
   "execution_count": null,
   "id": "individual-founder",
   "metadata": {},
   "outputs": [],
   "source": [
    "from IPython.lib.display import Audio\n",
    "import numpy as np\n",
    "\n",
    "framerate = 4410\n",
    "play_time_seconds = 2\n",
    "\n",
    "t = np.linspace(0, play_time_seconds, framerate*play_time_seconds)\n",
    "audio_data = np.sin(2*np.pi*110*t)# + np.sin(2*np.pi*78*t)\n",
    "Audio(audio_data, rate=framerate, autoplay=True)"
   ]
  },
  {
   "cell_type": "code",
   "execution_count": null,
   "id": "peripheral-header",
   "metadata": {},
   "outputs": [],
   "source": []
  },
  {
   "cell_type": "markdown",
   "id": "color-inflation",
   "metadata": {
    "id": "5thTfFQbJqpJ"
   },
   "source": [
    "# RESULTS"
   ]
  },
  {
   "cell_type": "markdown",
   "id": "associate-lease",
   "metadata": {
    "id": "5thTfFQbJqpJ"
   },
   "source": [
    "## 1. Xception\n",
    "### val_accuracy: 0.9363 - val_precision: 0.9363 - val_recall: 0.9363\n",
    "<details><summary>Epoch 1/20</summary>\n",
    "\n",
    "`94/94 [==============================] - 3s 25ms/step - loss: 0.3164 - accuracy: 0.8794 - precision: 0.8794 - recall: 0.8794 - val_loss: 0.1792 - val_accuracy: 0.9239 - val_precision: 0.9239 - val_recall: 0.9239`\n",
    "\n",
    "`Epoch 2/20`\n",
    "\n",
    "`94/94 [==============================] - 1s 10ms/step - loss: 0.1666 - accuracy: 0.9312 - precision: 0.9312 - recall: 0.9312 - val_loss: 0.1416 - val_accuracy: 0.9410 - val_precision: 0.9410 - val_recall: 0.9410`\n",
    "\n",
    "`Epoch 3/20`\n",
    "\n",
    "`94/94 [==============================] - 1s 10ms/step - loss: 0.1088 - accuracy: 0.9580 - precision: 0.9580 - recall: 0.9580 - val_loss: 0.1605 - val_accuracy: 0.9363 - val_precision: 0.9363 - val_recall: 0.9363`\n",
    "\n",
    "`Epoch 4/20`\n",
    "\n",
    "`94/94 [==============================] - 1s 10ms/step - loss: 0.0865 - accuracy: 0.9664 - precision: 0.9664 - recall: 0.9664 - val_loss: 0.1921 - val_accuracy: 0.9317 - val_precision: 0.9317 - val_recall: 0.9317`\n",
    "\n",
    "`Epoch 5/20`\n",
    "\n",
    "`94/94 [==============================] - 1s 10ms/step - loss: 0.0711 - accuracy: 0.9727 - precision: 0.9727 - recall: 0.9727 - val_loss: 0.1610 - val_accuracy: 0.9332 - val_precision: 0.9332 - val_recall: 0.9332`\n",
    "\n",
    "`Epoch 6/20`\n",
    "\n",
    "`94/94 [==============================] - 1s 10ms/step - loss: 0.0571 - accuracy: 0.9810 - precision: 0.9810 - recall: 0.9810 - val_loss: 0.2130 - val_accuracy: 0.9363 - val_precision: 0.9363 - val_recall: 0.9363`\n",
    "\n",
    "\n",
    "</details>\n",
    "\n",
    "`Epoch 7/20`\n",
    "\n",
    "`94/94 [==============================] - 1s 10ms/step - loss: 0.0440 - accuracy: 0.9841 - precision: 0.9841 - recall: 0.9841 - val_loss: 0.1795 - val_accuracy: 0.9363 - val_precision: 0.9363 - val_recall: 0.9363`\n",
    "\n",
    "\n",
    "\n",
    "| ImageDataGenerator | values |\n",
    "| --- | --- |\n",
    "| rescale | 1/255. |\n",
    "| shear_range | 0.1 |\n",
    "| zoom_range | 0.2 |\n",
    "| horizontal_flip | True |\n",
    "| vertical_flip | True |\n",
    "\n",
    "\n",
    "\n",
    "| ImageDataGenerator.flow_from_directory() | values |\n",
    "| --- | --- |\n",
    "|train_path |  |\n",
    "| target_size | (299, 299) |\n",
    "| class_mode | None |  \n",
    "| shuffle | False |\n"
   ]
  },
  {
   "cell_type": "markdown",
   "id": "legitimate-population",
   "metadata": {
    "id": "5thTfFQbJqpJ"
   },
   "source": [
    "## 2. MobileNetV2\n",
    "### val_accuracy: 0.9068 - val_precision: 0.9068 - val_recall: 0.9068\n",
    "<details><summary>Epoch 1/20</summary>\n",
    "\n",
    "`94/94 [==============================] - 3s 21ms/step - loss: 0.4476 - accuracy: 0.7764 - precision: 0.7764 - recall: 0.7764 - val_loss: 0.2281 - val_accuracy: 0.9099 - val_precision: 0.9099 - val_recall: 0.9099`\n",
    "\n",
    "`Epoch 2/20`\n",
    "\n",
    "`94/94 [==============================] - 1s 6ms/step - loss: 0.1902 - accuracy: 0.9234 - precision: 0.9234 - recall: 0.9234 - val_loss: 0.2043 - val_accuracy: 0.9146 - val_precision: 0.9146 - val_recall: 0.9146`\n",
    "\n",
    "`Epoch 3/20`\n",
    "\n",
    "`94/94 [==============================] - 1s 7ms/step - loss: 0.1486 - accuracy: 0.9494 - precision: 0.9494 - recall: 0.9494 - val_loss: 0.2080 - val_accuracy: 0.9193 - val_precision: 0.9193 - val_recall: 0.9193`\n",
    "\n",
    "`Epoch 4/20`\n",
    "\n",
    "`94/94 [==============================] - 1s 7ms/step - loss: 0.1072 - accuracy: 0.9589 - precision: 0.9589 - recall: 0.9589 - val_loss: 0.2373 - val_accuracy: 0.9177 - val_precision: 0.9177 - val_recall: 0.9177`\n",
    "\n",
    "`Epoch 5/20`\n",
    "\n",
    "`94/94 [==============================] - 1s 7ms/step - loss: 0.1303 - accuracy: 0.9440 - precision: 0.9440 - recall: 0.9440 - val_loss: 0.2070 - val_accuracy: 0.9146 - val_precision: 0.9146 - val_recall: 0.9146`\n",
    "\n",
    "`Epoch 6/20`\n",
    "\n",
    "`94/94 [==============================] - 1s 6ms/step - loss: 0.0651 - accuracy: 0.9799 - precision: 0.9799 - recall: 0.9799 - val_loss: 0.5230 - val_accuracy: 0.8789 - val_precision: 0.8789 - val_recall: 0.8789`\n",
    "\n",
    "</details>\n",
    "\n",
    "`Epoch 7/20`\n",
    "\n",
    "`94/94 [==============================] - 1s 6ms/step - loss: 0.0597 - accuracy: 0.9788 - precision: 0.9788 - recall: 0.9788 - val_loss: 0.3386 - val_accuracy: 0.9068 - val_precision: 0.9068 - val_recall: 0.9068`\n",
    "\n",
    "\n",
    "\n",
    "\n",
    "| ImageDataGenerator | values |\n",
    "| --- | --- |\n",
    "| rescale | 1/255. |\n",
    "| shear_range | 0.1 |\n",
    "| zoom_range | 0.2 |\n",
    "| horizontal_flip | True |\n",
    "| vertical_flip | True |\n",
    "\n",
    "\n",
    "\n",
    "| ImageDataGenerator.flow_from_directory() | values |\n",
    "| --- | --- |\n",
    "|train_path |  |\n",
    "| target_size | (299, 299) |\n",
    "| class_mode | None |  \n",
    "| shuffle | False |\n"
   ]
  },
  {
   "cell_type": "markdown",
   "id": "imported-nerve",
   "metadata": {
    "id": "5thTfFQbJqpJ",
    "tags": []
   },
   "source": [
    "## 3. InceptionV3\n",
    "### val_accuracy: 0.9286 - val_precision: 0.9286 - val_recall: 0.9286\n",
    "<details><summary>Epoch 1/20</summary>\n",
    "\n",
    "`94/94 [==============================] - 3s 21ms/step - loss: 0.3614 - accuracy: 0.8243 - precision: 0.8243 - recall: 0.8243 - val_loss: 0.1966 - val_accuracy: 0.9317 - val_precision: 0.9317 - val_recall: 0.9317`\n",
    "\n",
    "`Epoch 2/20`\n",
    "\n",
    "`94/94 [==============================] - 1s 7ms/step - loss: 0.1468 - accuracy: 0.9437 - precision: 0.9437 - recall: 0.9437 - val_loss: 0.2659 - val_accuracy: 0.8866 - val_precision: 0.8866 - val_recall: 0.8866`\n",
    "\n",
    "`Epoch 3/20`\n",
    "\n",
    "`94/94 [==============================] - 1s 7ms/step - loss: 0.1630 - accuracy: 0.9328 - precision: 0.9328 - recall: 0.9328 - val_loss: 0.1985 - val_accuracy: 0.9224 - val_precision: 0.9224 - val_recall: 0.9224`\n",
    "\n",
    "`Epoch 4/20`\n",
    "\n",
    "`94/94 [==============================] - 1s 7ms/step - loss: 0.1618 - accuracy: 0.9285 - precision: 0.9285 - recall: 0.9285 - val_loss: 0.2132 - val_accuracy: 0.9332 - val_precision: 0.9332 - val_recall: 0.9332`\n",
    "\n",
    "`Epoch 5/20`\n",
    "\n",
    "`94/94 [==============================] - 1s 7ms/step - loss: 0.1038 - accuracy: 0.9585 - precision: 0.9585 - recall: 0.9585 - val_loss: 0.1739 - val_accuracy: 0.9348 - val_precision: 0.9348 - val_recall: 0.9348`\n",
    "\n",
    "`Epoch 6/20`\n",
    "\n",
    "`94/94 [==============================] - 1s 7ms/step - loss: 0.1025 - accuracy: 0.9629 - precision: 0.9629 - recall: 0.9629 - val_loss: 0.2555 - val_accuracy: 0.9208 - val_precision: 0.9208 - val_recall: 0.9208`\n",
    "\n",
    "`Epoch 7/20`\n",
    "\n",
    "`94/94 [==============================] - 1s 7ms/step - loss: 0.1105 - accuracy: 0.9585 - precision: 0.9585 - recall: 0.9585 - val_loss: 0.1839 - val_accuracy: 0.9332 - val_precision: 0.9332 - val_recall: 0.9332`\n",
    "\n",
    "`Epoch 8/20`\n",
    "\n",
    "`94/94 [==============================] - 1s 8ms/step - loss: 0.1110 - accuracy: 0.9548 - precision: 0.9548 - recall: 0.9548 - val_loss: 0.2017 - val_accuracy: 0.9332 - val_precision: 0.9332 - val_recall: 0.9332`\n",
    "\n",
    "`Epoch 9/20`\n",
    "\n",
    "`94/94 [==============================] - 1s 7ms/step - loss: 0.0854 - accuracy: 0.9642 - precision: 0.9642 - recall: 0.9642 - val_loss: 0.2311 - val_accuracy: 0.9301 - val_precision: 0.9301 - val_recall: 0.9301`\n",
    "\n",
    "\n",
    "</details>\n",
    "\n",
    "`Epoch 10/20`\n",
    "\n",
    "`94/94 [==============================] - 1s 7ms/step - loss: 0.0805 - accuracy: 0.9715 - precision: 0.9715 - recall: 0.9715 - val_loss: 0.2856 - val_accuracy: 0.9286 - val_precision: 0.9286 - val_recall: 0.9286`\n",
    "\n",
    "\n",
    "\n",
    "| ImageDataGenerator | values |\n",
    "| --- | --- |\n",
    "| rescale | 1/255. |\n",
    "| shear_range | 0.1 |\n",
    "| zoom_range | 0.2 |\n",
    "| horizontal_flip | True |\n",
    "| vertical_flip | True |\n",
    "\n",
    "\n",
    "\n",
    "| ImageDataGenerator.flow_from_directory() | values |\n",
    "| --- | --- |\n",
    "|train_path |  |\n",
    "| target_size | (299, 299) |\n",
    "| class_mode | None |  \n",
    "| shuffle | False |\n",
    "\n"
   ]
  },
  {
   "cell_type": "markdown",
   "id": "overhead-bacon",
   "metadata": {
    "id": "5thTfFQbJqpJ"
   },
   "source": [
    "## 4. ResNet50\n",
    "### val_accuracy: 0.5000 - val_precision: 0.5000 - val_recall: 0.5000\n",
    "<details><summary>Epoch 1/20</summary>\n",
    "\n",
    "`94/94 [==============================] - 3s 24ms/step - loss: 0.6979 - accuracy: 0.5023 - precision: 0.5008 - recall: 0.5465 - val_loss: 0.6931 - val_accuracy: 0.5000 - val_precision: 0.0000e+00 - val_recall: 0.0000e+00`\n",
    "\n",
    "`Epoch 2/20`\n",
    "\n",
    "`94/94 [==============================] - 1s 9ms/step - loss: 0.6932 - accuracy: 0.4981 - precision: 0.5032 - recall: 0.4812 - val_loss: 0.6931 - val_accuracy: 0.5000 - val_precision: 0.5000 - val_recall: 0.5000`\n",
    "\n",
    "`Epoch 3/20`\n",
    "\n",
    "`94/94 [==============================] - 1s 10ms/step - loss: 0.6933 - accuracy: 0.5097 - precision: 0.5094 - recall: 0.5649 - val_loss: 0.6931 - val_accuracy: 0.5000 - val_precision: 0.5000 - val_recall: 1.0000`\n",
    "\n",
    "`Epoch 4/20`\n",
    "\n",
    "`94/94 [==============================] - 1s 10ms/step - loss: 0.6932 - accuracy: 0.4702 - precision: 0.4988 - recall: 0.8101 - val_loss: 0.6931 - val_accuracy: 0.5000 - val_precision: 0.5000 - val_recall: 1.0000`\n",
    "\n",
    "`Epoch 5/20`\n",
    "\n",
    "`94/94 [==============================] - 1s 10ms/step - loss: 0.6932 - accuracy: 0.4656 - precision: 0.4954 - recall: 0.7235 - val_loss: 0.6931 - val_accuracy: 0.5000 - val_precision: 0.5000 - val_recall: 0.5000`\n",
    "\n",
    "`Epoch 6/20`\n",
    "\n",
    "`94/94 [==============================] - 1s 10ms/step - loss: 0.6932 - accuracy: 0.4925 - precision: 0.4962 - recall: 0.5490 - val_loss: 0.6931 - val_accuracy: 0.5000 - val_precision: 0.5000 - val_recall: 1.0000`\n",
    "\n",
    "`Epoch 7/20`\n",
    "\n",
    "`94/94 [==============================] - 1s 10ms/step - loss: 0.6932 - accuracy: 0.4804 - precision: 0.4857 - recall: 0.5916 - val_loss: 0.6931 - val_accuracy: 0.5000 - val_precision: 0.5000 - val_recall: 0.5000`\n",
    "\n",
    "`Epoch 8/20`\n",
    "\n",
    "`94/94 [==============================] - 1s 10ms/step - loss: 0.6932 - accuracy: 0.4986 - precision: 0.4995 - recall: 0.5044 - val_loss: 0.6931 - val_accuracy: 0.5000 - val_precision: 0.5000 - val_recall: 0.5000`\n",
    "\n",
    "`Epoch 9/20`\n",
    "\n",
    "`94/94 [==============================] - 1s 10ms/step - loss: 0.6932 - accuracy: 0.4888 - precision: 0.4888 - recall: 0.4887 - val_loss: 0.6931 - val_accuracy: 0.5000 - val_precision: 0.5000 - val_recall: 0.5000`\n",
    "\n",
    "`Epoch 10/20`\n",
    "\n",
    "`94/94 [==============================] - 1s 10ms/step - loss: 0.6932 - accuracy: 0.4753 - precision: 0.4815 - recall: 0.4594 - val_loss: 0.6931 - val_accuracy: 0.5000 - val_precision: 0.5000 - val_recall: 0.5000`\n",
    "\n",
    "</details>\n",
    "\n",
    "`Epoch 11/20`\n",
    "\n",
    "`94/94 [==============================] - 1s 10ms/step - loss: 0.6933 - accuracy: 0.4720 - precision: 0.4535 - recall: 0.3027 - val_loss: 0.6931 - val_accuracy: 0.5000 - val_precision: 0.5000 - val_recall: 0.5000`\n",
    "\n",
    "\n",
    "| ImageDataGenerator | values |\n",
    "| --- | --- |\n",
    "| rescale | 1/255. |\n",
    "| shear_range | 0.1 |\n",
    "| zoom_range | 0.2 |\n",
    "| horizontal_flip | True |\n",
    "| vertical_flip | True |\n",
    "\n",
    "\n",
    "\n",
    "| ImageDataGenerator.flow_from_directory() | values |\n",
    "| --- | --- |\n",
    "|train_path |  |\n",
    "| target_size | (299, 299) |\n",
    "| class_mode | None |  \n",
    "| shuffle | False |\n",
    "\n"
   ]
  },
  {
   "cell_type": "markdown",
   "id": "filled-receiver",
   "metadata": {
    "id": "5thTfFQbJqpJ"
   },
   "source": [
    "## 5. VGG16\n",
    "### val_accuracy: 0.8261 - val_precision: 0.8261 - val_recall: 0.8261\n",
    "<details><summary>Epoch 1/20</summary>\n",
    "\n",
    "`94/94 [==============================] - 3s 17ms/step - loss: 0.6551 - accuracy: 0.6220 - precision: 0.6220 - recall: 0.6220 - val_loss: 0.5067 - val_accuracy: 0.7624 - val_precision: 0.7624 - val_recall: 0.7624`\n",
    "\n",
    "`Epoch 2/20`\n",
    "\n",
    "`94/94 [==============================] - 0s 3ms/step - loss: 0.4687 - accuracy: 0.7732 - precision: 0.7732 - recall: 0.7732 - val_loss: 0.4066 - val_accuracy: 0.8214 - val_precision: 0.8214 - val_recall: 0.8214`\n",
    "\n",
    "`Epoch 3/20`\n",
    "\n",
    "`94/94 [==============================] - 0s 3ms/step - loss: 0.3969 - accuracy: 0.8156 - precision: 0.8156 - recall: 0.8156 - val_loss: 0.4452 - val_accuracy: 0.8199 - val_precision: 0.8199 - val_recall: 0.8199`\n",
    "\n",
    "`Epoch 4/20`\n",
    "\n",
    "`94/94 [==============================] - 0s 3ms/step - loss: 0.3911 - accuracy: 0.8210 - precision: 0.8210 - recall: 0.8210 - val_loss: 0.3856 - val_accuracy: 0.8323 - val_precision: 0.8323 - val_recall: 0.8323`\n",
    "\n",
    "`Epoch 5/20`\n",
    "\n",
    "`94/94 [==============================] - 0s 3ms/step - loss: 0.3487 - accuracy: 0.8402 - precision: 0.8402 - recall: 0.8402 - val_loss: 0.4994 - val_accuracy: 0.7748 - val_precision: 0.7748 - val_recall: 0.7748`\n",
    "\n",
    "`Epoch 6/20`\n",
    "\n",
    "`94/94 [==============================] - 0s 4ms/step - loss: 0.4044 - accuracy: 0.8204 - precision: 0.8204 - recall: 0.8204 - val_loss: 0.3704 - val_accuracy: 0.8214 - val_precision: 0.8214 - val_recall: 0.8214`\n",
    "\n",
    "`Epoch 7/20`\n",
    "\n",
    "`94/94 [==============================] - 0s 4ms/step - loss: 0.3341 - accuracy: 0.8586 - precision: 0.8586 - recall: 0.8586 - val_loss: 0.4425 - val_accuracy: 0.8323 - val_precision: 0.8323 - val_recall: 0.8323`\n",
    "\n",
    "`Epoch 8/20`\n",
    "\n",
    "`94/94 [==============================] - 0s 3ms/step - loss: 0.3291 - accuracy: 0.8529 - precision: 0.8529 - recall: 0.8529 - val_loss: 0.4131 - val_accuracy: 0.8307 - val_precision: 0.8307 - val_recall: 0.8307`\n",
    "\n",
    "`Epoch 9/20`\n",
    "\n",
    "`94/94 [==============================] - 0s 3ms/step - loss: 0.3283 - accuracy: 0.8442 - precision: 0.8442 - recall: 0.8442 - val_loss: 0.3865 - val_accuracy: 0.8137 - val_precision: 0.8137 - val_recall: 0.8137`\n",
    "\n",
    "`Epoch 10/20`\n",
    "\n",
    "`94/94 [==============================] - 0s 3ms/step - loss: 0.2904 - accuracy: 0.8708 - precision: 0.8708 - recall: 0.8708 - val_loss: 0.4117 - val_accuracy: 0.8292 - val_precision: 0.8292 - val_recall: 0.8292`\n",
    "\n",
    "\n",
    "</details>\n",
    "\n",
    "`Epoch 11/20`\n",
    "\n",
    "`94/94 [==============================] - 0s 3ms/step - loss: 0.2868 - accuracy: 0.8700 - precision: 0.8700 - recall: 0.8700 - val_loss: 0.4117 - `\n",
    "    \n",
    "\n",
    "| ImageDataGenerator | values |\n",
    "| --- | --- |\n",
    "| rescale | 1/255. |\n",
    "| shear_range | 0.1 |\n",
    "| zoom_range | 0.2 |\n",
    "| horizontal_flip | True |\n",
    "| vertical_flip | True |\n",
    "\n",
    "\n",
    "\n",
    "| ImageDataGenerator.flow_from_directory() | values |\n",
    "| --- | --- |\n",
    "|train_path |  |\n",
    "| target_size | (299, 299) |\n",
    "| class_mode | None |  \n",
    "| shuffle | False |\n"
   ]
  },
  {
   "cell_type": "code",
   "execution_count": null,
   "id": "incorporate-discharge",
   "metadata": {
    "id": "iO0kaWetIuhJ"
   },
   "outputs": [],
   "source": []
  }
 ],
 "metadata": {
  "colab": {
   "collapsed_sections": [],
   "name": "hotdog_not-hotdog.ipynb",
   "provenance": [],
   "toc_visible": true
  },
  "kernelspec": {
   "display_name": "Python 3",
   "language": "python",
   "name": "python3"
  },
  "language_info": {
   "codemirror_mode": {
    "name": "ipython",
    "version": 3
   },
   "file_extension": ".py",
   "mimetype": "text/x-python",
   "name": "python",
   "nbconvert_exporter": "python",
   "pygments_lexer": "ipython3",
   "version": "3.8.5"
  }
 },
 "nbformat": 4,
 "nbformat_minor": 5
}
